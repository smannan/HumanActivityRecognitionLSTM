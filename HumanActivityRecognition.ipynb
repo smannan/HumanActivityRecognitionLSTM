{
  "nbformat": 4,
  "nbformat_minor": 0,
  "metadata": {
    "colab": {
      "name": "HumanActivityRecognition.ipynb",
      "provenance": [],
      "collapsed_sections": [],
      "authorship_tag": "ABX9TyPqeY7JjizGyHYyolIhGDai",
      "include_colab_link": true
    },
    "kernelspec": {
      "name": "python3",
      "display_name": "Python 3"
    },
    "accelerator": "GPU"
  },
  "cells": [
    {
      "cell_type": "markdown",
      "metadata": {
        "id": "view-in-github",
        "colab_type": "text"
      },
      "source": [
        "<a href=\"https://colab.research.google.com/github/smannan/HumanActivityRecognitionLSTM/blob/main/HumanActivityRecognition.ipynb\" target=\"_parent\"><img src=\"https://colab.research.google.com/assets/colab-badge.svg\" alt=\"Open In Colab\"/></a>"
      ]
    },
    {
      "cell_type": "code",
      "metadata": {
        "id": "V7rAkUpV8Bhj",
        "colab": {
          "base_uri": "https://localhost:8080/"
        },
        "outputId": "314c9a4e-55e4-40b4-83f5-11caf6c9639b"
      },
      "source": [
        "# set up access to Google drive\n",
        "from google.colab import drive\n",
        "drive.mount('/content/drive')"
      ],
      "execution_count": null,
      "outputs": [
        {
          "output_type": "stream",
          "text": [
            "Mounted at /content/drive\n"
          ],
          "name": "stdout"
        }
      ]
    },
    {
      "cell_type": "code",
      "metadata": {
        "id": "5d46-AiTBj7p"
      },
      "source": [
        "import matplotlib.pyplot as plt\n",
        "import numpy as np\n",
        "import pandas as pd\n",
        "import seaborn as sns; sns.set_theme()\n",
        "import tensorflow as tf\n",
        "\n",
        "from keras.optimizers import Adam\n",
        "from keras.utils import to_categorical\n",
        "from sklearn.metrics import confusion_matrix\n",
        "from sklearn.preprocessing import normalize\n",
        "from tensorflow import keras\n",
        "from tensorflow.keras import Sequential\n",
        "from tensorflow.keras.layers import InputLayer, LSTM, Dense, Dropout, Conv2D, Conv1D, Bidirectional"
      ],
      "execution_count": null,
      "outputs": []
    },
    {
      "cell_type": "code",
      "metadata": {
        "id": "MqxTaS7i8PzA"
      },
      "source": [
        "# Inertial Signals has the raw accelerometer and gyroscope readings\n",
        "# whereas train / test txt have feature engineered vectors from the readings \n",
        "TRAIN_DIR = '/content/drive/My Drive/CMPE258_Deep_Learning/HumanActivityRecognition/UCI_HAR_Dataset/train/'\n",
        "TEST_DIR = '/content/drive/My Drive/CMPE258_Deep_Learning/HumanActivityRecognition/UCI_HAR_Dataset/test/'\n",
        "\n",
        "# researchers measured acceleration: total and body (estimated), as well as gyroscope (rotational velocity)\n",
        "# measurements were taken every 2.56 seconds over a sliding window for 128 measurements per reading\n",
        "MEASUREMENTS = ['total_acc', 'body_gyro', 'body_acc']\n",
        "# measurements are taken in 3-dimensions: x, y, and z\n",
        "DIMENSIONS = ['x', 'y', 'z']\n",
        "\n",
        "# Hyperparameters\n",
        "N_UNITS = 150\n",
        "DROPOUT = 0.75\n",
        "EPOCHS = 512\n",
        "BATCH_SIZE = 64\n",
        "\n",
        "N_TRAINING_SAMPLES = 7352\n",
        "LABELS_TO_ACTIVITIES = ['WALKING', 'WALKING_UPSTAIRS', 'WALKING_DOWNSTAIRS', 'SITTING', 'STANDING', 'LAYING']"
      ],
      "execution_count": null,
      "outputs": []
    },
    {
      "cell_type": "markdown",
      "metadata": {
        "id": "TGUNtgu4aCCE"
      },
      "source": [
        "## Prepare data for Modeling"
      ]
    },
    {
      "cell_type": "code",
      "metadata": {
        "id": "LJ_GhzqPCI0I"
      },
      "source": [
        "def load_data(train=True):\n",
        "  dataset = []\n",
        "\n",
        "  base_dir = TRAIN_DIR\n",
        "  suffix = 'train'\n",
        "\n",
        "  if not train:\n",
        "    base_dir = TEST_DIR\n",
        "    suffix = 'test'\n",
        "\n",
        "  for measurement in MEASUREMENTS:\n",
        "    for dimension in DIMENSIONS:\n",
        "      feature_filename = '{0}/Inertial Signals/{1}_{2}_{3}.txt'.format(base_dir, measurement, dimension, suffix)\n",
        "      print ('Loading {0}...'.format(feature_filename))\n",
        "\n",
        "      feature_vector = pd.read_csv(feature_filename, header=None, delim_whitespace=True).to_numpy()\n",
        "      print (feature_vector.shape)\n",
        "\n",
        "      dataset.append(feature_vector)\n",
        "\n",
        "  # a list of 9, [N x 128] feature vectors where N = number of samples in the data\n",
        "  # stack according to the 3rd dim - 9, such that each resulting row is a \n",
        "  # 128 x 9 feature vector with measurements at each timestep\n",
        "  dataset = np.dstack(dataset)\n",
        "  print (dataset.shape)\n",
        "\n",
        "  return dataset"
      ],
      "execution_count": null,
      "outputs": []
    },
    {
      "cell_type": "code",
      "metadata": {
        "id": "ByoQV8lqPcSG"
      },
      "source": [
        "def load_labels(train=True):\n",
        "  base_dir = TRAIN_DIR\n",
        "  suffix = 'train'\n",
        "\n",
        "  if not train:\n",
        "    base_dir = TEST_DIR\n",
        "    suffix = 'test'\n",
        "\n",
        "  label_filename = '{0}/y_{1}.txt'.format(base_dir, suffix)\n",
        "  print ('Loading {0}...'.format(label_filename))\n",
        "\n",
        "  labels = pd.read_csv(label_filename, header=None, delim_whitespace=True).to_numpy()\n",
        "  labels = labels.reshape(labels.shape[0])\n",
        "  print ('Labels shape {0}'.format(labels.shape))\n",
        "\n",
        "  # one-hot encode the labels to get multi-class probabilities for each prediction\n",
        "  labels = labels - 1\n",
        "  labels_one_hot = to_categorical(labels, 6)\n",
        "  print ('Labels one hot encoded {0}'.format(labels_one_hot.shape))\n",
        "  \n",
        "  return labels_one_hot"
      ],
      "execution_count": null,
      "outputs": []
    },
    {
      "cell_type": "code",
      "metadata": {
        "id": "0C4cgGU9UAjJ"
      },
      "source": [
        "def prepare_data():\n",
        "  return load_data(), load_labels(), load_data(train=False), load_labels(train=False)"
      ],
      "execution_count": null,
      "outputs": []
    },
    {
      "cell_type": "code",
      "metadata": {
        "id": "U1UwFUuCBy28"
      },
      "source": [
        "X_train, y_train, X_test, y_test = prepare_data()"
      ],
      "execution_count": null,
      "outputs": []
    },
    {
      "cell_type": "code",
      "metadata": {
        "id": "-zS97l50Ue1f",
        "colab": {
          "base_uri": "https://localhost:8080/"
        },
        "outputId": "c7203e8c-2916-4aaf-d60d-55ac4769b78e"
      },
      "source": [
        "print (X_train.shape, y_train.shape, X_test.shape, y_test.shape)"
      ],
      "execution_count": null,
      "outputs": [
        {
          "output_type": "stream",
          "text": [
            "(7352, 128, 9) (7352, 6) (2947, 128, 9) (2947, 6)\n"
          ],
          "name": "stdout"
        }
      ]
    },
    {
      "cell_type": "code",
      "metadata": {
        "id": "7ke19lOZwrjV"
      },
      "source": [
        "def normalize_data(data):\n",
        "  data_norm = []\n",
        "  for row in data:\n",
        "    data_norm.append(normalize(row, norm='l2', axis=0))\n",
        "  return np.array(data_norm)"
      ],
      "execution_count": null,
      "outputs": []
    },
    {
      "cell_type": "code",
      "metadata": {
        "id": "LvEF13P0TzVB"
      },
      "source": [
        "def plot_confusion_matrix(y_truth, preds):\n",
        "  cm = confusion_matrix(y_truth, preds)\n",
        "  cm = cm.astype('float') / cm.sum(axis=1)[:, np.newaxis]\n",
        "  tick_marks = np.arange(len(LABELS_TO_ACTIVITIES))\n",
        "  plt.yticks(tick_marks, LABELS_TO_ACTIVITIES)\n",
        "  plt.imshow(cm, interpolation='nearest', cmap=plt.cm.Blues)\n",
        "\n",
        "  return plt"
      ],
      "execution_count": null,
      "outputs": []
    },
    {
      "cell_type": "markdown",
      "metadata": {
        "id": "eF7ILl2uaG0Y"
      },
      "source": [
        "## LSTM model with one hidden layer\n",
        "\n",
        "Training time: ~1 seconds / epoch\n",
        "\n",
        "1. LSTM 50, 150, 100 units\n",
        "- 64 epochs = 85.51%, 84.05%, 85.48%\n",
        "- 128 epochs = 85.41%, 89.14%, 87.99%\n",
        "\n",
        "2. LSTM different epochs, 150 units\n",
        "- 15 epochs: 72.66%\n",
        "- 64 epochs: 87.38%\n",
        "- 128 epochs: 86.80%\n",
        "- 256 epochs: 88.80%\n",
        "- 512 epochs: 89.14%\n",
        "\n",
        "3. LSTM different dropout levels (150 units, 512 epochs)\n",
        "- No Dropout = 87.11%\n",
        "- 75% Dropout = 89.38%\n",
        "- 95% Dropout = 58.36%\n",
        "\n",
        "4. Normalize data (150 units, 512 epochs, dropout 0.75) = 82.2%"
      ]
    },
    {
      "cell_type": "code",
      "metadata": {
        "id": "Jg3GS2z5aRKA"
      },
      "source": [
        "def define_lstm_one_layer_model(n_timesteps, n_features, n_outputs):\n",
        "  model = Sequential()\n",
        "  model.add(LSTM(N_UNITS, input_shape=(n_timesteps, n_features)))\n",
        "  model.add(Dropout(DROPOUT))\n",
        "  model.add(Dense(100, activation='relu'))\n",
        "  model.add(Dense(n_outputs, activation='softmax'))\n",
        "  return model"
      ],
      "execution_count": null,
      "outputs": []
    },
    {
      "cell_type": "code",
      "metadata": {
        "id": "sHOHOThCVAK9"
      },
      "source": [
        "n_timesteps, n_features, n_outputs = X_train.shape[1], X_train.shape[2], y_train.shape[1]"
      ],
      "execution_count": null,
      "outputs": []
    },
    {
      "cell_type": "code",
      "metadata": {
        "id": "NscWHAxZaktm"
      },
      "source": [
        "one_layer_lstm = define_lstm_one_layer_model(n_timesteps, n_features, n_outputs)"
      ],
      "execution_count": null,
      "outputs": []
    },
    {
      "cell_type": "code",
      "metadata": {
        "id": "Xw2E1cyZa78f",
        "colab": {
          "base_uri": "https://localhost:8080/"
        },
        "outputId": "2d225298-a406-4bc8-9e40-5b76d7f3ad02"
      },
      "source": [
        "epochs, batch_size = EPOCHS, BATCH_SIZE\n",
        "one_layer_lstm.compile(loss='categorical_crossentropy', optimizer='adam', metrics=['accuracy'])\n",
        "#one_layer_lstm.fit(X_train, y_train, epochs=epochs, batch_size=batch_size, validation_split=0.7)\n",
        "one_layer_lstm.summary()"
      ],
      "execution_count": null,
      "outputs": [
        {
          "output_type": "stream",
          "text": [
            "Model: \"sequential\"\n",
            "_________________________________________________________________\n",
            "Layer (type)                 Output Shape              Param #   \n",
            "=================================================================\n",
            "lstm (LSTM)                  (None, 150)               96000     \n",
            "_________________________________________________________________\n",
            "dropout (Dropout)            (None, 150)               0         \n",
            "_________________________________________________________________\n",
            "dense (Dense)                (None, 100)               15100     \n",
            "_________________________________________________________________\n",
            "dense_1 (Dense)              (None, 6)                 606       \n",
            "=================================================================\n",
            "Total params: 111,706\n",
            "Trainable params: 111,706\n",
            "Non-trainable params: 0\n",
            "_________________________________________________________________\n"
          ],
          "name": "stdout"
        }
      ]
    },
    {
      "cell_type": "code",
      "metadata": {
        "id": "DpaLcxbFgIYk",
        "colab": {
          "base_uri": "https://localhost:8080/"
        },
        "outputId": "2ab0c74a-4bc3-4dfe-9c9d-2c8a97d46e10"
      },
      "source": [
        "_, accuracy = one_layer_lstm.evaluate(X_test, y_test, batch_size=batch_size)"
      ],
      "execution_count": null,
      "outputs": [
        {
          "output_type": "stream",
          "text": [
            "47/47 [==============================] - 0s 5ms/step - loss: 1.2887 - accuracy: 0.8887\n"
          ],
          "name": "stdout"
        }
      ]
    },
    {
      "cell_type": "markdown",
      "metadata": {
        "id": "Taf2bnMyxyac"
      },
      "source": [
        "## LSTM Model Multiple Hidden Layers\n",
        "\n",
        "1. Number of Hidden Layers (512 epochs, 0.75 dropout, 150 units)\n",
        "- 4 layers: 87.31%\n",
        "- 5 layers: 89.07%\n",
        "- 8 layers: 85.92%"
      ]
    },
    {
      "cell_type": "code",
      "metadata": {
        "id": "LYCpjieOx1T6"
      },
      "source": [
        "def define_lstm_multi_layer_model(n_timesteps, n_features, n_outputs, n_lstms=4):\n",
        "  model = Sequential()\n",
        "  model.add(Dense(9, activation='relu'))\n",
        "  \n",
        "  model.add(LSTM(N_UNITS, input_shape=(n_timesteps, n_features), return_sequences=True))\n",
        "\n",
        "  for i in range(n_lstms-2):\n",
        "    model.add(LSTM(N_UNITS, return_sequences=True))\n",
        "  \n",
        "  model.add(LSTM(N_UNITS))\n",
        "  model.add(Dropout(DROPOUT))\n",
        "  model.add(Dense(100, activation='relu'))\n",
        "  model.add(Dense(n_outputs, activation='softmax'))\n",
        "  return model"
      ],
      "execution_count": null,
      "outputs": []
    },
    {
      "cell_type": "code",
      "metadata": {
        "id": "cyCpM-ojx8uP"
      },
      "source": [
        "n_timesteps, n_features, n_outputs = X_train.shape[1], X_train.shape[2], y_train.shape[1]\n",
        "multi_layer_lstm = define_lstm_multi_layer_model(n_timesteps, n_features, n_outputs, n_lstms=4)\n",
        "\n",
        "epochs, batch_size = EPOCHS, BATCH_SIZE\n",
        "optimizer = Adam(lr=0.0025)\n",
        "multi_layer_lstm.compile(loss='categorical_crossentropy', optimizer=optimizer, metrics=['accuracy'])\n",
        "multi_layer_lstm.fit(X_train, y_train, epochs=epochs, batch_size=batch_size, validation_split=0.7)"
      ],
      "execution_count": null,
      "outputs": []
    },
    {
      "cell_type": "code",
      "metadata": {
        "colab": {
          "base_uri": "https://localhost:8080/"
        },
        "id": "A9KyFWlYyFqW",
        "outputId": "7731892c-ca38-434c-fd36-ace1dbac1fd2"
      },
      "source": [
        "_, accuracy = multi_layer_lstm.evaluate(X_test, y_test, batch_size=batch_size)"
      ],
      "execution_count": null,
      "outputs": [
        {
          "output_type": "stream",
          "text": [
            "47/47 [==============================] - 1s 13ms/step - loss: 1.4469 - accuracy: 0.9050\n"
          ],
          "name": "stdout"
        }
      ]
    },
    {
      "cell_type": "code",
      "metadata": {
        "colab": {
          "base_uri": "https://localhost:8080/"
        },
        "id": "xenzqhqvMWnv",
        "outputId": "988b3603-9e76-4256-e817-2fd5f4cd0bc8"
      },
      "source": [
        "multi_layer_lstm.save('/content/drive/My Drive/CMPE258_Deep_Learning/HumanActivityRecognition/multi_layer_lstm')"
      ],
      "execution_count": null,
      "outputs": [
        {
          "output_type": "stream",
          "text": [
            "WARNING:tensorflow:From /usr/local/lib/python3.6/dist-packages/tensorflow/python/training/tracking/tracking.py:111: Model.state_updates (from tensorflow.python.keras.engine.training) is deprecated and will be removed in a future version.\n",
            "Instructions for updating:\n",
            "This property should not be used in TensorFlow 2.0, as updates are applied automatically.\n",
            "WARNING:tensorflow:From /usr/local/lib/python3.6/dist-packages/tensorflow/python/training/tracking/tracking.py:111: Layer.updates (from tensorflow.python.keras.engine.base_layer) is deprecated and will be removed in a future version.\n",
            "Instructions for updating:\n",
            "This property should not be used in TensorFlow 2.0, as updates are applied automatically.\n",
            "INFO:tensorflow:Assets written to: /content/drive/My Drive/CMPE258_Deep_Learning/HumanActivityRecognition/multi_layer_lstm/assets\n"
          ],
          "name": "stdout"
        }
      ]
    },
    {
      "cell_type": "code",
      "metadata": {
        "colab": {
          "base_uri": "https://localhost:8080/",
          "height": 268
        },
        "id": "MBeEC2-NMtLw",
        "outputId": "095f496d-efe4-4a87-8562-ded0e8e930b9"
      },
      "source": [
        "multi_layer_lstm = keras.models.load_model('/content/drive/My Drive/CMPE258_Deep_Learning/HumanActivityRecognition/multi_layer_lstm')\n",
        "preds = multi_layer_lstm.predict(X_test)\n",
        "preds = np.array([np.argmax(pred) for pred in preds])\n",
        "y_truth = np.array([np.argmax(test) for test in y_test])\n",
        "cm_plot = plot_confusion_matrix(y_truth, preds)\n",
        "cm_plot.savefig('/content/drive/My Drive/CMPE258_Deep_Learning/HumanActivityRecognition/multi_layer_lstm_cmap.png', bbox_inches='tight')"
      ],
      "execution_count": null,
      "outputs": [
        {
          "output_type": "display_data",
          "data": {
            "image/png": "[encoded data removed]",
            "text/plain": [
              "<Figure size 432x288 with 1 Axes>"
            ]
          },
          "metadata": {
            "tags": []
          }
        }
      ]
    },
    {
      "cell_type": "code",
      "metadata": {
        "colab": {
          "base_uri": "https://localhost:8080/"
        },
        "id": "D_-nn_5ddSj_",
        "outputId": "b11381d3-080a-4215-d8ae-30089b66fbe5"
      },
      "source": [
        "multi_layer_lstm.compile(loss='categorical_crossentropy', optimizer=Adam(lr=0.0025), metrics=['accuracy'])\n",
        "multi_layer_lstm.summary()"
      ],
      "execution_count": null,
      "outputs": [
        {
          "output_type": "stream",
          "text": [
            "Model: \"sequential_1\"\n",
            "_________________________________________________________________\n",
            "Layer (type)                 Output Shape              Param #   \n",
            "=================================================================\n",
            "dense_2 (Dense)              (None, 128, 100)          1000      \n",
            "_________________________________________________________________\n",
            "lstm_1 (LSTM)                (None, 128, 150)          150600    \n",
            "_________________________________________________________________\n",
            "lstm_2 (LSTM)                (None, 128, 150)          180600    \n",
            "_________________________________________________________________\n",
            "lstm_3 (LSTM)                (None, 128, 150)          180600    \n",
            "_________________________________________________________________\n",
            "lstm_4 (LSTM)                (None, 150)               180600    \n",
            "_________________________________________________________________\n",
            "dropout_1 (Dropout)          (None, 150)               0         \n",
            "_________________________________________________________________\n",
            "dense_3 (Dense)              (None, 100)               15100     \n",
            "_________________________________________________________________\n",
            "dense_4 (Dense)              (None, 6)                 606       \n",
            "=================================================================\n",
            "Total params: 709,106\n",
            "Trainable params: 709,106\n",
            "Non-trainable params: 0\n",
            "_________________________________________________________________\n"
          ],
          "name": "stdout"
        }
      ]
    },
    {
      "cell_type": "markdown",
      "metadata": {
        "id": "fxJtxGH6ZsFY"
      },
      "source": [
        "## BiRNN\n",
        "\n",
        "1. @128 epochs with 3 hidden LSTM layers = 87.04% accurate\n",
        "2. @128 epochs with 1 hidden LSTM layer = 87.48% accurate\n"
      ]
    },
    {
      "cell_type": "code",
      "metadata": {
        "id": "AgoY9g-Zvn8f"
      },
      "source": [
        "def define_lstm_birnn_layer_model(n_timesteps, n_features, n_outputs):\n",
        "  model = Sequential()\n",
        "  model.add(Bidirectional(LSTM(N_UNITS, input_shape=(n_timesteps, n_features))))\n",
        "  model.add(Dropout(DROPOUT))\n",
        "  model.add(Dense(100, activation='relu'))\n",
        "  model.add(Dense(n_outputs, activation='softmax'))\n",
        "  return model"
      ],
      "execution_count": null,
      "outputs": []
    },
    {
      "cell_type": "code",
      "metadata": {
        "id": "5PP56QjU1c-m"
      },
      "source": [
        "n_timesteps, n_features, n_outputs = X_train.shape[1], X_train.shape[2], y_train.shape[1]\n",
        "birnn_lstm = define_lstm_birnn_layer_model(n_timesteps, n_features, n_outputs)\n",
        "\n",
        "epochs, batch_size = EPOCHS, BATCH_SIZE\n",
        "optimizer = Adam(lr=0.0025)\n",
        "birnn_lstm.compile(loss='categorical_crossentropy', optimizer=optimizer, metrics=['accuracy'])\n",
        "birnn_lstm.fit(X_train, y_train, epochs=epochs, batch_size=batch_size, validation_split=0.7)"
      ],
      "execution_count": null,
      "outputs": []
    },
    {
      "cell_type": "code",
      "metadata": {
        "colab": {
          "base_uri": "https://localhost:8080/"
        },
        "id": "FIy8o7jN3XId",
        "outputId": "2c145942-21b7-4c89-a9d4-c722995ea50e"
      },
      "source": [
        "_, accuracy = birnn_lstm.evaluate(X_test, y_test, batch_size=batch_size)"
      ],
      "execution_count": null,
      "outputs": [
        {
          "output_type": "stream",
          "text": [
            "47/47 [==============================] - 0s 7ms/step - loss: 1.5082 - accuracy: 0.8663\n"
          ],
          "name": "stdout"
        }
      ]
    },
    {
      "cell_type": "code",
      "metadata": {
        "colab": {
          "base_uri": "https://localhost:8080/"
        },
        "id": "uIrDAWEsYhA-",
        "outputId": "fce8b0f1-550f-4024-980a-efd13ba945e9"
      },
      "source": [
        "birnn_lstm.save('/content/drive/My Drive/CMPE258_Deep_Learning/HumanActivityRecognition/birnn_lstm')"
      ],
      "execution_count": null,
      "outputs": [
        {
          "output_type": "stream",
          "text": [
            "INFO:tensorflow:Assets written to: /content/drive/My Drive/CMPE258_Deep_Learning/HumanActivityRecognition/birnn_lstm/assets\n"
          ],
          "name": "stdout"
        }
      ]
    },
    {
      "cell_type": "code",
      "metadata": {
        "colab": {
          "base_uri": "https://localhost:8080/",
          "height": 268
        },
        "id": "RV2wPE64YmLE",
        "outputId": "92f6d078-ab2d-48f7-959b-833edaff1732"
      },
      "source": [
        "preds = birnn_lstm.predict(X_test)\n",
        "preds = np.array([np.argmax(pred) for pred in preds])\n",
        "y_truth = np.array([np.argmax(test) for test in y_test])\n",
        "cm_plot = plot_confusion_matrix(y_truth, preds)\n",
        "cm_plot.savefig('/content/drive/My Drive/CMPE258_Deep_Learning/HumanActivityRecognition/bi_rnn_lstm_cmap.png', bbox_inches='tight')"
      ],
      "execution_count": null,
      "outputs": [
        {
          "output_type": "display_data",
          "data": {
            "image/png": "[encoded data removed]",
            "text/plain": [
              "<Figure size 432x288 with 1 Axes>"
            ]
          },
          "metadata": {
            "tags": []
          }
        }
      ]
    },
    {
      "cell_type": "code",
      "metadata": {
        "colab": {
          "base_uri": "https://localhost:8080/"
        },
        "id": "pOQwm3PolIHz",
        "outputId": "68766389-19c3-4f64-d2ed-02ef322f1cc8"
      },
      "source": [
        "bi_lstm = keras.models.load_model('/content/drive/My Drive/CMPE258_Deep_Learning/HumanActivityRecognition/birnn_lstm')\n",
        "bi_lstm.compile(loss='categorical_crossentropy', optimizer=Adam(lr=0.0025), metrics=['accuracy'])\n",
        "bi_lstm.summary()"
      ],
      "execution_count": null,
      "outputs": [
        {
          "output_type": "stream",
          "text": [
            "Model: \"sequential_2\"\n",
            "_________________________________________________________________\n",
            "Layer (type)                 Output Shape              Param #   \n",
            "=================================================================\n",
            "bidirectional (Bidirectional (None, 300)               192000    \n",
            "_________________________________________________________________\n",
            "dropout_2 (Dropout)          (None, 300)               0         \n",
            "_________________________________________________________________\n",
            "dense_5 (Dense)              (None, 100)               30100     \n",
            "_________________________________________________________________\n",
            "dense_6 (Dense)              (None, 6)                 606       \n",
            "=================================================================\n",
            "Total params: 222,706\n",
            "Trainable params: 222,706\n",
            "Non-trainable params: 0\n",
            "_________________________________________________________________\n"
          ],
          "name": "stdout"
        }
      ]
    },
    {
      "cell_type": "markdown",
      "metadata": {
        "id": "ZEDaNjsHMm-z"
      },
      "source": [
        "## Visualize time series data"
      ]
    },
    {
      "cell_type": "code",
      "metadata": {
        "colab": {
          "base_uri": "https://localhost:8080/"
        },
        "id": "3BNJJ_SbMmuJ",
        "outputId": "7574cb5f-702c-42fc-d6aa-28c1941c7f90"
      },
      "source": [
        "dataset = []\n",
        "\n",
        "for measurement in MEASUREMENTS:\n",
        "  for dimension in DIMENSIONS:\n",
        "    feature_filename = '{0}/Inertial Signals/{1}_{2}_{3}.txt'.format(TRAIN_DIR, measurement, dimension, 'train')\n",
        "    print ('Loading {0}...'.format(feature_filename))\n",
        "\n",
        "    feature_vector = pd.read_csv(feature_filename, header=None, delim_whitespace=True).to_numpy()\n",
        "    print (feature_vector.shape)\n",
        "\n",
        "    dataset.append(feature_vector)"
      ],
      "execution_count": null,
      "outputs": [
        {
          "output_type": "stream",
          "text": [
            "Loading /content/drive/My Drive/CMPE258_Deep_Learning/HumanActivityRecognition/UCI_HAR_Dataset/train//Inertial Signals/total_acc_x_train.txt...\n",
            "(7352, 128)\n",
            "Loading /content/drive/My Drive/CMPE258_Deep_Learning/HumanActivityRecognition/UCI_HAR_Dataset/train//Inertial Signals/total_acc_y_train.txt...\n",
            "(7352, 128)\n",
            "Loading /content/drive/My Drive/CMPE258_Deep_Learning/HumanActivityRecognition/UCI_HAR_Dataset/train//Inertial Signals/total_acc_z_train.txt...\n",
            "(7352, 128)\n",
            "Loading /content/drive/My Drive/CMPE258_Deep_Learning/HumanActivityRecognition/UCI_HAR_Dataset/train//Inertial Signals/body_gyro_x_train.txt...\n",
            "(7352, 128)\n",
            "Loading /content/drive/My Drive/CMPE258_Deep_Learning/HumanActivityRecognition/UCI_HAR_Dataset/train//Inertial Signals/body_gyro_y_train.txt...\n",
            "(7352, 128)\n",
            "Loading /content/drive/My Drive/CMPE258_Deep_Learning/HumanActivityRecognition/UCI_HAR_Dataset/train//Inertial Signals/body_gyro_z_train.txt...\n",
            "(7352, 128)\n",
            "Loading /content/drive/My Drive/CMPE258_Deep_Learning/HumanActivityRecognition/UCI_HAR_Dataset/train//Inertial Signals/body_acc_x_train.txt...\n",
            "(7352, 128)\n",
            "Loading /content/drive/My Drive/CMPE258_Deep_Learning/HumanActivityRecognition/UCI_HAR_Dataset/train//Inertial Signals/body_acc_y_train.txt...\n",
            "(7352, 128)\n",
            "Loading /content/drive/My Drive/CMPE258_Deep_Learning/HumanActivityRecognition/UCI_HAR_Dataset/train//Inertial Signals/body_acc_z_train.txt...\n",
            "(7352, 128)\n"
          ],
          "name": "stdout"
        }
      ]
    },
    {
      "cell_type": "code",
      "metadata": {
        "id": "6QlBUpOHUvsR"
      },
      "source": [
        "label_filename = '{0}/y_{1}.txt'.format(TRAIN_DIR, 'train')\n",
        "ylabels = pd.read_csv(label_filename, header=None, delim_whitespace=True).to_numpy()"
      ],
      "execution_count": null,
      "outputs": []
    },
    {
      "cell_type": "code",
      "metadata": {
        "id": "faFYbC85DPhH"
      },
      "source": [
        "def plot_measurements_for_sample(dataset, ylabels, target=5):\n",
        "  indices = np.argwhere(ylabels == target)\n",
        "  random_sample = indices[np.random.choice(len(indices), 1)[0]][0]\n",
        "  measurement_labels = ['total_acc_x', 'total_acc_y', 'total_acc_z', 'body_gyro_x', 'body_gyro_y', 'body_gyro_z', 'body_acc_x', 'body_acc_y', 'body_acc_z']\n",
        "\n",
        "  for i in range(len(measurement_labels)):\n",
        "    plt.plot(dataset[i][random_sample], label=measurement_labels[i])\n",
        "\n",
        "  plt.title('{0} Measurements for Sample {1}'.format(LABELS_TO_ACTIVITIES[ylabels[random_sample][0]-1], random_sample))\n",
        "  plt.xlabel('Timestep')\n",
        "  plt.ylabel('Measurement')\n",
        "  plt.legend(bbox_to_anchor=(1.05, 1), loc='upper left', title='Measurement Type')\n",
        "  return plt"
      ],
      "execution_count": null,
      "outputs": []
    },
    {
      "cell_type": "code",
      "metadata": {
        "colab": {
          "base_uri": "https://localhost:8080/",
          "height": 301
        },
        "id": "Fc6Ribz5OnLR",
        "outputId": "af77d507-632c-4c16-bff9-e0aa76cc1778"
      },
      "source": [
        "plt = plot_measurements_for_sample(dataset, ylabels)\n",
        "plt.savefig('/content/drive/My Drive/CMPE258_Deep_Learning/HumanActivityRecognition/standing_single_viz', bbox_inches='tight')"
      ],
      "execution_count": null,
      "outputs": [
        {
          "output_type": "display_data",
          "data": {
            "image/png": "[encoded data removed]",
            "text/plain": [
              "<Figure size 432x288 with 1 Axes>"
            ]
          },
          "metadata": {
            "tags": []
          }
        }
      ]
    },
    {
      "cell_type": "code",
      "metadata": {
        "colab": {
          "base_uri": "https://localhost:8080/",
          "height": 318
        },
        "id": "L9Rv0Pqba3GM",
        "outputId": "6218b1aa-3422-45ae-f2c4-af5898dbc0e2"
      },
      "source": [
        "plot_measurements_for_sample(dataset, ylabels, target=LABELS_TO_ACTIVITIES.index('SITTING')+1)"
      ],
      "execution_count": null,
      "outputs": [
        {
          "output_type": "execute_result",
          "data": {
            "text/plain": [
              "<module 'matplotlib.pyplot' from '/usr/local/lib/python3.6/dist-packages/matplotlib/pyplot.py'>"
            ]
          },
          "metadata": {
            "tags": []
          },
          "execution_count": 32
        },
        {
          "output_type": "display_data",
          "data": {
            "image/png": "[encoded data removed]",
            "text/plain": [
              "<Figure size 432x288 with 1 Axes>"
            ]
          },
          "metadata": {
            "tags": []
          }
        }
      ]
    },
    {
      "cell_type": "code",
      "metadata": {
        "id": "BAdKsPyI8gU2"
      },
      "source": [
        "def plot_histogram(ylabels):\n",
        "  # An \"interface\" to matplotlib.axes.Axes.hist() method\n",
        "  n, bins, patches = plt.hist(x=ylabels.flatten().tolist(), bins='auto', color='#0504aa',\n",
        "                              alpha=0.7, rwidth=0.85)\n",
        "  plt.grid(axis='y', alpha=0.75)\n",
        "  plt.xlabel('Activity')\n",
        "  plt.ylabel('Frequency')\n",
        "  plt.title('Activity Frequency in Dataset')\n",
        "  maxfreq = n.max()\n",
        "  # Set a clean upper y-axis limit.\n",
        "  plt.ylim(ymax=np.ceil(maxfreq / 10) * 12 if maxfreq % 10 else maxfreq + 10)\n",
        "  return plt"
      ],
      "execution_count": null,
      "outputs": []
    },
    {
      "cell_type": "code",
      "metadata": {
        "colab": {
          "base_uri": "https://localhost:8080/",
          "height": 301
        },
        "id": "s0mxYKaB8-KD",
        "outputId": "be59158e-8ad6-4390-f662-23cdac4b2711"
      },
      "source": [
        "plt = plot_histogram(ylabels)\n",
        "plt.savefig('/content/drive/My Drive/CMPE258_Deep_Learning/HumanActivityRecognition/label_dist', bbox_inches='tight')"
      ],
      "execution_count": null,
      "outputs": [
        {
          "output_type": "display_data",
          "data": {
            "image/png": "[encoded data removed]",
            "text/plain": [
              "<Figure size 432x288 with 1 Axes>"
            ]
          },
          "metadata": {
            "tags": []
          }
        }
      ]
    },
    {
      "cell_type": "code",
      "metadata": {
        "id": "uTf4IuKF-ns-"
      },
      "source": [
        ""
      ],
      "execution_count": null,
      "outputs": []
    }
  ]
}